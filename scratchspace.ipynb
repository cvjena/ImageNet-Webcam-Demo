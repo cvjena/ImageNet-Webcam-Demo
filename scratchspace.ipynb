{
 "cells": [
  {
   "cell_type": "code",
   "execution_count": null,
   "metadata": {
    "collapsed": false
   },
   "outputs": [],
   "source": [
    "%load_ext autoreload\n",
    "%autoreload 2\n",
    "import argparse\n",
    "import logging\n",
    "import sys\n",
    "import os\n",
    "import math\n",
    "import time\n",
    "import numpy as np\n",
    "import matplotlib.pyplot as pylab\n",
    "import scipy.misc\n",
    "import functools\n",
    "\n",
    "sys.path.append('/home/simon/Research/lib/caffe.py3/python/')\n",
    "import caffe\n",
    "caffe.set_mode_cpu()\n",
    "\n",
    "import pygame.image\n",
    "import pygame.surfarray\n",
    "import threading\n",
    "import json\n",
    "import PIL\n",
    "import glob\n",
    "import random\n",
    "\n",
    "import ImageNetThumbnails"
   ]
  },
  {
   "cell_type": "code",
   "execution_count": null,
   "metadata": {
    "collapsed": false
   },
   "outputs": [],
   "source": [
    "# main function\n",
    "parser = argparse.ArgumentParser()\n",
    "parser.add_argument( '-c', '--categories', help='reduced list of categories as a JSON hash', default='data/all_categories.json' )\n",
    "parser.add_argument( '--width', type=int, help='requested camera width', default=512 )\n",
    "parser.add_argument( '--height', type=int, help='requested camera height', default=512 )\n",
    "parser.add_argument( '--thumbdir', help='directory with thumbnail images for the synsets', default='./thumbnails/' )\n",
    "parser.add_argument( '--downloadthumbs', help='download non-existing thumbnail images', action='store_true')\n",
    "parser.add_argument( '--threaded', help='use classification thread', action='store_true')\n",
    "parser.add_argument( '--nocenteronly', help='disable center-only classification mode', action='store_true', default=False)\n",
    "parser.add_argument( '--offlinemode', help='download|decode|directory', choices=['download', 'decode', 'directory'])\n",
    "parser.add_argument( '--url', help='youtube video that will be downloaded in offline mode' )\n",
    "parser.add_argument( '--videofile', help='video file that will be processed in offline mode' )\n",
    "parser.add_argument( '--videodir', help='directory with PNG files that will be processed in offline mode' )\n",
    "parser.add_argument( '--loglevel', help='log level', choices=['debug','info','warning','error','critical'], default='info')\n",
    "parser.add_argument( '--delay', help='delay (0=no delay, negative value=button wait, positive value=milliseconds to wait)', type=float, default=0)\n",
    "parser.add_argument( '--pooling', help='type of pooling used', choices=['avg', 'none', 'max'], default='none' )\n",
    "parser.add_argument( '--poolingsize', help='pooling size', type=int, default=100 )\n",
    "parser.add_argument( '--cnn_model_dir', help='Folder that contains the CNN model. This folder should contain a deploy.protoxt and a file called \"model\".', default='./model/alexnet_ep_fc2/')\n",
    "args = parser.parse_args(['--downloadthumbs'])"
   ]
  },
  {
   "cell_type": "code",
   "execution_count": null,
   "metadata": {
    "collapsed": false
   },
   "outputs": [],
   "source": [
    "# We assume the blob names are the same as the layer name, which produce these blobs\n",
    "global selected_blob, prob_blobs\n",
    "prob_blobs = ['anytime_prob_{:02d}'.format(i) for i in [1,2,3,4,5]]\n",
    "selected_blob = 2\n",
    "print('Initially using blob {}'.format(prob_blobs[selected_blob]))"
   ]
  },
  {
   "cell_type": "code",
   "execution_count": null,
   "metadata": {
    "collapsed": false
   },
   "outputs": [],
   "source": [
    "proto = os.path.join(args.cnn_model_dir, 'deploy.prototxt')\n",
    "cnn_model = os.path.join(args.cnn_model_dir, 'model')"
   ]
  },
  {
   "cell_type": "code",
   "execution_count": null,
   "metadata": {
    "collapsed": false
   },
   "outputs": [],
   "source": [
    "numeric_level = getattr(logging, args.loglevel.upper(), None)\n",
    "assert isinstance(numeric_level, int)\n",
    "logging.basicConfig(level=numeric_level)"
   ]
  },
  {
   "cell_type": "code",
   "execution_count": null,
   "metadata": {
    "collapsed": true
   },
   "outputs": [],
   "source": [
    "def draw_text(text, pos):\n",
    "  myfont = pygame.font.SysFont(\"monospace\", 20)\n",
    "  myfont.set_bold(True)\n",
    "  text_object = myfont.render(text, 1, (255,0,0), (0,0,0))\n",
    "  screen.blit(text_object, pos)"
   ]
  },
  {
   "cell_type": "code",
   "execution_count": null,
   "metadata": {
    "collapsed": true
   },
   "outputs": [],
   "source": [
    "class SingleFunctionThread(threading.Thread):\n",
    "  \"\"\" Class used for threading \"\"\"\n",
    "\n",
    "  def __init__(self, function_that_classifies):\n",
    "    threading.Thread.__init__(self)\n",
    "    self.runnable = function_that_classifies\n",
    "    self.daemon = True\n",
    "\n",
    "  def run(self):\n",
    "    while True:\n",
    "      self.runnable()\n",
    "\n",
    "\n",
    "\n",
    "\"\"\" load, rescale, and store thumbnail images \"\"\"\n",
    "def create_thumbnail_cache(synsets, timgsize, thumbdir):\n",
    "  timgsize = np.array(timgsize).astype(int)\n",
    "  maxk = 3\n",
    "  maxtries = 10\n",
    "\n",
    "  logging.info(\"Loading thumbnails ...\")\n",
    "  for synset in synsets:\n",
    "    logging.debug(\"Caching thumbnails for synset %s\" % (synset))\n",
    "    tryk = 0\n",
    "    successk = 0\n",
    "    while tryk < maxtries and successk < maxk:\n",
    "      thumbfn = os.path.join(thumbdir, '%s'%synset, 'thumbnail_%04d.jpg'%tryk)\n",
    "      try:\n",
    "        timgbig = pygame.image.load( thumbfn )\n",
    "      except:\n",
    "        tryk = tryk + 1\n",
    "        continue\n",
    "\n",
    "      logging.debug(\"Storing image %s %d: %s\" % ( synset, successk, thumbfn ))\n",
    "\n",
    "      successk = successk + 1\n",
    "      tryk = tryk + 1\n",
    "\n",
    "      timg = pygame.transform.scale ( timgbig, timgsize )\n",
    "      if not synset in thumbnail_cache:\n",
    "        thumbnail_cache[synset] = []\n",
    "      thumbnail_cache[synset].append(timg)\n",
    "\n",
    "\n",
    "\n",
    "\n",
    "\"\"\" given a list of synsets, display the thumbnails \"\"\"\n",
    "def display_thumbnails(synsets, woffset, wsize, numthumbnails=3):\n",
    "  screen.fill ( (0,0,0), pygame.Rect(woffset[0], woffset[1], wsize[0], wsize[1]) )\n",
    "  timgsize = ( wsize[0] / len(synsets), wsize[1] / numthumbnails )\n",
    "  for i in range(len(synsets)):\n",
    "    synset = synsets[i]\n",
    "    if synset in thumbnail_cache:\n",
    "      for k in range( len(thumbnail_cache[synset]) ):\n",
    "          y = timgsize[0] * k + woffset[0]\n",
    "          x = timgsize[1] * i + woffset[1]\n",
    "          screen.blit(thumbnail_cache[synset][k],(y,x))\n",
    "\n",
    "\n",
    "def display_results(synsets, scores, woffset, wsize):\n",
    "  # delete previous area\n",
    "  screen.fill ( (0,0,0), pygame.Rect(woffset[0], woffset[1], wsize[0], wsize[1]) )\n",
    "\n",
    "  myfont = pygame.font.SysFont(\"monospace\", 20)\n",
    "  myfont.set_bold(True)\n",
    "  rowsep = int ( wsize[1] / len(synsets) )\n",
    "  rowoffset = rowsep/2\n",
    "\n",
    "  sumscores = 0\n",
    "  for i in range(len(synsets)):\n",
    "    sumscores = sumscores + scores[i]\n",
    "\n",
    "  for i in range(len(synsets)):\n",
    "    text = \"{:>4d}% - {}\".format(int(scores[i] / sumscores * 100), synsets[i].split(',')[0])\n",
    "    #text = synsets[i]\n",
    "    label = myfont.render(text, 1, (255,0,0), (0,0,0) )\n",
    "    screen.blit(label, (woffset[0], woffset[1] + i * rowsep + rowoffset ))"
   ]
  },
  {
   "cell_type": "code",
   "execution_count": null,
   "metadata": {
    "collapsed": true
   },
   "outputs": [],
   "source": [
    "global elapsed\n",
    "elapsed = 0"
   ]
  },
  {
   "cell_type": "code",
   "execution_count": null,
   "metadata": {
    "collapsed": true
   },
   "outputs": [],
   "source": [
    "\"\"\" classify the image, over and over again \"\"\"\n",
    "def classify_image(center_only=True):\n",
    "  if capturing:\n",
    "    # transpose image :)\n",
    "    camimg = np.transpose(pygame.surfarray.array3d(img), [1,0,2])\n",
    "    \n",
    "    logging.debug(\"Classification (image: %d x %d)\" % (camimg.shape[1], camimg.shape[0]))\n",
    "    \n",
    "    src = net.blobs['data']\n",
    "    src.reshape(1,3,*src.data.shape[2:])\n",
    "    src.data[0] = preprocess(net, scipy.misc.imresize(camimg,src.data.shape[2:]))\n",
    "    start = time.time()\n",
    "    net.forward(end=prob_blobs[selected_blob])\n",
    "    elapsed = time.time() - start\n",
    "    scores = net.blobs[prob_blobs[selected_blob]].data[0].ravel()\n",
    "\n",
    "    if pooling!='none':\n",
    "      all_scores.append(scores)\n",
    "\n",
    "      if len(all_scores)>pooling_size:\n",
    "        all_scores.pop(0)\n",
    "\n",
    "      logging.debug(\"Pool size: {0}\".format(len(all_scores)))\n",
    "\n",
    "      pooled_scores = all_scores[0]\n",
    "      if pooling=='avg':\n",
    "        for s in all_scores[1:]:\n",
    "          pooled_scores = np.add( pooled_scores, s )\n",
    "        pooled_scores = pooled_scores / len(all_scores)\n",
    "      else:\n",
    "        for s in all_scores[1:]:\n",
    "          pooled_scores = np.fmax( pooled_scores, s )\n",
    "\n",
    "      scores = pooled_scores\n",
    "\n",
    "    if categories:\n",
    "      top_class_ids = [class_id for class_id in np.argsort(-scores) if label_names[class_id] in categories]\n",
    "    else:\n",
    "      top_class_ids = np.argsort(-scores)\n",
    "    \n",
    "    top_scores = scores[top_class_ids]\n",
    "    top_classes = label_names[top_class_ids]\n",
    "    top_desc = label_desc[top_class_ids]\n",
    "    \n",
    "    logging.debug(\"ImageNet guesses (1000 categories): {0}\".format(top_classes[0:5]))\n",
    "\n",
    "    display_scores = top_scores[:5]\n",
    "    display_synsets = top_classes[:5]\n",
    "    display_descs = top_desc[:5]\n",
    "\n",
    "    if categories:\n",
    "      logging.debug(\"Reduced set ({0} categories): {1}\".format(len(categories), display_descs))\n",
    "\n",
    "\n",
    "    imgsize = (camimg.shape[1],camimg.shape[0])\n",
    "    display_thumbnails( display_synsets[0:3], imgsize, imgsize )\n",
    "    display_results ( display_descs[0:3], display_scores[0:3], (0,camimg.shape[0]), imgsize )\n",
    "    draw_text('Calc time {:>3d} ms'.format(int(elapsed*1000)),( int(camimg.shape[1]*1.2),int(camimg.shape[0]*0.8)))"
   ]
  },
  {
   "cell_type": "code",
   "execution_count": null,
   "metadata": {
    "collapsed": false
   },
   "outputs": [],
   "source": [
    "data_root = args.modeldir\n",
    "requested_cam_size = (args.width,args.height)\n",
    "enable_thumbnail_downloading = args.downloadthumbs\n",
    "\n",
    "# OpenGL support not yet implemented\n",
    "# gldrawPixels and the following command\n",
    "# screen = pygame.display.set_mode( cam_size, (pygame.DOUBLEBUF | pygame.OPENGL | pygame.RESIZABLE)   )"
   ]
  },
  {
   "cell_type": "code",
   "execution_count": null,
   "metadata": {
    "collapsed": false
   },
   "outputs": [],
   "source": [
    "def preprocess(net, img):\n",
    "    return np.float32(np.rollaxis(img, 2)[::-1]) - net.transformer.mean['data']\n",
    "\n",
    "def deprocess(net, img):\n",
    "    return np.dstack((img + net.transformer.mean['data'])[::-1])\n",
    "\n",
    "# deep net init\n",
    "global net\n",
    "net = caffe.Classifier(proto, cnn_model,\n",
    "                       mean = np.float32([0,0,0]), #104.0, 116.0, 122.0]), # ImageNet mean, training set dependent\n",
    "                       channel_swap = (2,1,0)) # the reference model has channels in BGR order instead of RGB\n"
   ]
  },
  {
   "cell_type": "code",
   "execution_count": null,
   "metadata": {
    "collapsed": false
   },
   "outputs": [],
   "source": [
    "# pygame general initialization\n",
    "ret = pygame.init()\n",
    "logging.debug(\"PyGame result: {0}\".format(ret))\n",
    "logging.debug(\"PyGame driver: {0}\".format(pygame.display.get_driver()))"
   ]
  },
  {
   "cell_type": "code",
   "execution_count": null,
   "metadata": {
    "collapsed": false
   },
   "outputs": [],
   "source": [
    "if args.offlinemode:\n",
    "    from Camera.VideoCapture import Capture\n",
    "    logging.info(\"Selecting the first camera\")\n",
    "    cam = Capture(requested_cam_size=requested_cam_size, url=args.url, videodir=args.videodir, mode=args.offlinemode, videofile=args.videofile)\n",
    "    cam_size = requested_cam_size\n",
    "else:\n",
    "    from Camera.Capture import Capture\n",
    "    logging.info(\"List of cameras:\")\n",
    "    logging.info(Capture.enumerateDevices())\n",
    "    cam = Capture(index=len(Capture.enumerateDevices())-1, requested_cam_size=requested_cam_size)\n",
    "    timg, width, height, orientation = cam.grabRawFrame()\n",
    "    cam_size = (width, height)\n",
    "    logging.info(\"Video camera size: {0}\".format(cam_size))"
   ]
  },
  {
   "cell_type": "code",
   "execution_count": null,
   "metadata": {
    "collapsed": false
   },
   "outputs": [],
   "source": [
    "# pooling settings\n",
    "global all_scores\n",
    "all_scores = []\n",
    "pooling = args.pooling\n",
    "pooling_size = args.poolingsize"
   ]
  },
  {
   "cell_type": "code",
   "execution_count": null,
   "metadata": {
    "collapsed": false
   },
   "outputs": [],
   "source": [
    "# load categories\n",
    "global categories\n",
    "categories = {}\n",
    "if args.categories:\n",
    "  categories = json.load(open( args.categories))"
   ]
  },
  {
   "cell_type": "code",
   "execution_count": null,
   "metadata": {
    "collapsed": false
   },
   "outputs": [],
   "source": [
    "global label_names\n",
    "label_names = np.array([ll.split(' ')[0] for ll in open('data/synset_descriptions.txt','rt').read().splitlines()])"
   ]
  },
  {
   "cell_type": "code",
   "execution_count": null,
   "metadata": {
    "collapsed": false
   },
   "outputs": [],
   "source": [
    "global label_desc\n",
    "label_desc = np.array([ll[ll.find(' ')+1:] for ll in open('data/synset_descriptions.txt','rt').read().splitlines()])"
   ]
  },
  {
   "cell_type": "code",
   "execution_count": null,
   "metadata": {
    "collapsed": false,
    "scrolled": true
   },
   "outputs": [],
   "source": [
    "# preload synset thumbnails\n",
    "logging.debug(\"Initialize thumbnails\")\n",
    "global thumbnail_cache\n",
    "thumbnail_cache = {}\n",
    "\n",
    "logging.debug(\"Pre-downloading thumbnails\")\n",
    "if enable_thumbnail_downloading:\n",
    "  for idx, synset in enumerate(categories):\n",
    "    logging.info(\"%d/%d %s\" % ( idx, len(categories), synset))\n",
    "    #ImageNetThumbnails.download(synset, 6, verbose=True, overwrite=False, outputdir=args.thumbdir)\n",
    "    ImageNetThumbnails.generate('/home/atlas1_ssd/simon/ilsvrc12-scaled/train', synset, 6, verbose=True, overwrite=False, outputdir=args.thumbdir)\n",
    "create_thumbnail_cache ( categories.keys(), (cam_size[0]/3, cam_size[1]/3), args.thumbdir )"
   ]
  },
  {
   "cell_type": "code",
   "execution_count": null,
   "metadata": {
    "collapsed": true
   },
   "outputs": [],
   "source": [
    "logging.debug(\"Initialize screen\")\n",
    "# open window\n",
    "global screen\n",
    "screen = pygame.display.set_mode( ( 2*cam_size[0], 2*cam_size[1] ), (pygame.RESIZABLE)   )"
   ]
  },
  {
   "cell_type": "code",
   "execution_count": null,
   "metadata": {
    "collapsed": true
   },
   "outputs": [],
   "source": [
    "# starting the threading\n",
    "global img\n",
    "global capturing\n",
    "capturing = True"
   ]
  },
  {
   "cell_type": "code",
   "execution_count": null,
   "metadata": {
    "collapsed": true
   },
   "outputs": [],
   "source": [
    "if args.threaded:\n",
    "  logging.debug(\"Initialize thread\")\n",
    "  thread = SingleFunctionThread(functools.partial(classify_image, not args.nocenteronly))\n",
    "  thread.start()\n",
    "\n",
    "if args.delay>0:\n",
    "  pygame.time.set_timer(pygame.USEREVENT + 1, int(args.delay*1000))"
   ]
  },
  {
   "cell_type": "code",
   "execution_count": null,
   "metadata": {
    "collapsed": false
   },
   "outputs": [],
   "source": [
    "running = True\n",
    "finished = False\n",
    "webcam_image_buffer = cam.grabFrameNumpy()[0][:,:,::-1].copy()\n",
    "reference_size = np.array(webcam_image_buffer.shape[:2][::-1])\n",
    "\n",
    "pipeline = np.array(PIL.Image.open('./drawings/pipeline.png'))\n",
    "scale_factor = webcam_image_buffer.shape[1] / min(pipeline.shape[:2]) * 0.25\n",
    "pipeline = scipy.misc.imresize(pipeline, scale_factor)\n",
    "pipeline_s = pygame.image.frombuffer(pipeline.copy(), pipeline.shape[:2][::-1], \"RGBA\")\n",
    "pipeline_r = np.array(pipeline.shape[:2][::-1])\n",
    "\n",
    "prediction = np.array(PIL.Image.open('./drawings/prediction.png'))\n",
    "prediction = scipy.misc.imresize(prediction, scale_factor)\n",
    "prediction_s = pygame.image.frombuffer(prediction.copy(), prediction.shape[:2][::-1], \"RGBA\")\n",
    "\n",
    "while not finished:\n",
    "  if running:\n",
    "    screen.fill ( (0,0,0), screen.get_clip())\n",
    "    \n",
    "    logging.debug(\"Capture image\")\n",
    "    capturing = False\n",
    "    webcam_image_buffer[...] = cam.grabFrameNumpy()[0][:,:,::-1]\n",
    "    img = pygame.image.frombuffer(webcam_image_buffer, webcam_image_buffer.shape[:2][::-1], \"RGB\" )\n",
    "    img = pygame.transform.flip(img, False, False)\n",
    "    screen.blit(img,(0,0))\n",
    "    capturing = True\n",
    "    \n",
    "    if not args.threaded:\n",
    "      classify_image(center_only=(not args.nocenteronly))\n",
    "\n",
    "    screen.blit(pipeline_s, (reference_size*np.array([1.2,0.1])).astype(int) )\n",
    "    screen.blit(prediction_s, (reference_size*np.array([1.2,0.1]) + pipeline_r*np.array([-0.1,0.38]) + selected_blob*pipeline_r*np.array([0.19,0])).astype(int) )\n",
    "    \n",
    "    pygame.display.flip()\n",
    "\n",
    "  blocking = True\n",
    "  while blocking:\n",
    "    for event in pygame.event.get():\n",
    "      if event.type==pygame.QUIT:\n",
    "        sys.exit()\n",
    "    \n",
    "      if event.type==pygame.KEYDOWN:\n",
    "          if event.key==pygame.K_SPACE:\n",
    "            logging.debug(\"Setting running flag to: {0}\".format(running))\n",
    "            running = not running\n",
    "            pygame.event.clear(pygame.KEYUP)\n",
    "            pygame.event.clear(pygame.KEYDOWN)\n",
    "          finished = event.key==pygame.K_q\n",
    "          if event.key in [pygame.K_RIGHT, pygame.K_UP, pygame.K_PAGEUP] and selected_blob<len(prob_blobs)-1:\n",
    "            selected_blob += 1\n",
    "            logging.info(\"Switching to blob {}\".format(prob_blobs[selected_blob]))\n",
    "          if event.key in [pygame.K_LEFT, pygame.K_DOWN, pygame.K_PAGEDOWN] and selected_blob>0:\n",
    "            selected_blob -= 1\n",
    "            logging.info(\"Switching to blob {}\".format(prob_blobs[selected_blob]))        \n",
    "      if event.type==pygame.USEREVENT+1:\n",
    "        blocking = False\n",
    "\n",
    "    if args.delay==0:\n",
    "      blocking = False\n",
    "\n",
    "#  if args.delay>0:\n",
    "#   time.sleep(args.delay)"
   ]
  },
  {
   "cell_type": "code",
   "execution_count": null,
   "metadata": {
    "collapsed": true
   },
   "outputs": [],
   "source": []
  },
  {
   "cell_type": "code",
   "execution_count": null,
   "metadata": {
    "collapsed": false
   },
   "outputs": [],
   "source": [
    "assert False"
   ]
  },
  {
   "cell_type": "markdown",
   "metadata": {
    "collapsed": true
   },
   "source": [
    "### Generate ImageNet thumbs"
   ]
  },
  {
   "cell_type": "code",
   "execution_count": null,
   "metadata": {
    "collapsed": true
   },
   "outputs": [],
   "source": [
    "imagenet_dir = '/home/atlas2_ssd/simon/ilsvrc12/train/'\n",
    "wnid = 'n01644900'\n",
    "k = 6\n",
    "verbose=False\n",
    "overwrite=True\n",
    "outputdir='.'\n",
    "timeout=2   \n",
    "\n",
    "# template\n",
    "name_template = os.path.join(outputdir,'{}', 'thumbnail_{:04d}.jpg')\n",
    "\n",
    "synset_images = list(glob.glob(os.path.join(imagenet_dir, wnid, '*')))\n",
    "random.shuffle(synset_images)\n",
    "\n",
    "for i in range(6):\n",
    "  im = scipy.misc.imread(synset_images[i])\n",
    "  im = scipy.misc.imresize(im, (100,100))\n",
    "  outfile = name_template.format(wnid,i)\n",
    "  # Create folder \n",
    "  try: \n",
    "    os.makedirs(os.path.split(name_template.format(wnid,i))[0]) \n",
    "  except: \n",
    "    pass\n",
    "  scipy.misc.imsave(outfile, im)"
   ]
  },
  {
   "cell_type": "code",
   "execution_count": null,
   "metadata": {
    "collapsed": true
   },
   "outputs": [],
   "source": []
  },
  {
   "cell_type": "code",
   "execution_count": null,
   "metadata": {
    "collapsed": true
   },
   "outputs": [],
   "source": []
  },
  {
   "cell_type": "code",
   "execution_count": null,
   "metadata": {
    "collapsed": true
   },
   "outputs": [],
   "source": []
  },
  {
   "cell_type": "code",
   "execution_count": null,
   "metadata": {
    "collapsed": true
   },
   "outputs": [],
   "source": []
  },
  {
   "cell_type": "code",
   "execution_count": null,
   "metadata": {
    "collapsed": true
   },
   "outputs": [],
   "source": []
  }
 ],
 "metadata": {
  "anaconda-cloud": {},
  "kernelspec": {
   "display_name": "Python [default]",
   "language": "python",
   "name": "python3"
  },
  "language_info": {
   "codemirror_mode": {
    "name": "ipython",
    "version": 3
   },
   "file_extension": ".py",
   "mimetype": "text/x-python",
   "name": "python",
   "nbconvert_exporter": "python",
   "pygments_lexer": "ipython3",
   "version": "3.5.2"
  }
 },
 "nbformat": 4,
 "nbformat_minor": 1
}
